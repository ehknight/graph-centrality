{
 "cells": [
  {
   "cell_type": "code",
   "execution_count": 48,
   "metadata": {},
   "outputs": [],
   "source": [
    "%matplotlib inline\n",
    "import numpy as np\n",
    "import pandas as pd\n",
    "import seaborn as sns\n",
    "import networkx as nx\n",
    "from io import BytesIO\n",
    "from zipfile import ZipFile\n",
    "from functools import partial\n",
    "from functools import lru_cache\n",
    "from urllib.request import urlopen\n",
    "from collections import defaultdict\n",
    "from matplotlib import pyplot as plt"
   ]
  },
  {
   "cell_type": "code",
   "execution_count": 49,
   "metadata": {
    "scrolled": true
   },
   "outputs": [],
   "source": [
    "def make_primate_graph():\n",
    "    resp = urlopen(\"http://www.complex-networks.net/datasets/primates.zip\")\n",
    "    zipfile = ZipFile(BytesIO(resp.read()))\n",
    "    primate_data = zipfile.open('primates/primates.net').read()\n",
    "    df = pd.read_csv(BytesIO(primate_data), sep=' ', header=None)\n",
    "    G = nx.Graph()\n",
    "    for ind, (v1, v2) in df.iterrows():\n",
    "        G.add_edge(v1, v2)\n",
    "    return G"
   ]
  },
  {
   "cell_type": "code",
   "execution_count": 50,
   "metadata": {},
   "outputs": [],
   "source": [
    "def make_fc(n):\n",
    "    return nx.complete_graph(n)\n",
    "\n",
    "def make_bp(n, m, p):\n",
    "    return nx.bipartite.random_graph(n, m, p)\n",
    "\n",
    "def make_rand_fc(n, p):\n",
    "    return nx.gnp_random_graph(n, p)"
   ]
  },
  {
   "cell_type": "code",
   "execution_count": 51,
   "metadata": {},
   "outputs": [],
   "source": [
    "def make_slide11():\n",
    "    g = nx.Graph()\n",
    "    edges = [(7,5), (6,5), (7,6), (5,4),\n",
    "             (4,3), (3,2), (2,1), (3,1)]\n",
    "    g.add_edges_from(edges)\n",
    "    return g\n",
    "\n",
    "def make_slide12():\n",
    "    g = nx.Graph()\n",
    "    edges = '''\n",
    "    r-q q-o o-m m-n m-l\n",
    "    m-p t-q e-s p-s t-l\n",
    "    l-k k-j k-i k-h h-f\n",
    "    f-g f-e f-d d-c c-s\n",
    "    s-t s-r'''\n",
    "    edges = edges.replace('\\n', ' ')\n",
    "    for e in edges.split():\n",
    "        v1, v2 = e.split('-')\n",
    "        g.add_edge(v1, v2)\n",
    "    return g"
   ]
  },
  {
   "cell_type": "code",
   "execution_count": 89,
   "metadata": {},
   "outputs": [
    {
     "data": {
      "image/png": "[encoded data removed]",
      "text/plain": [
       "<matplotlib.figure.Figure at 0x1a182e6dd8>"
      ]
     },
     "metadata": {},
     "output_type": "display_data"
    }
   ],
   "source": [
    "G = make_rand_fc(10, 0.2)\n",
    "nx.draw(G)"
   ]
  },
  {
   "cell_type": "code",
   "execution_count": 54,
   "metadata": {},
   "outputs": [],
   "source": [
    "def deg_cent(n):\n",
    "    return len(list(G.neighbors(n)))\n",
    "\n",
    "def norm_deg_cent(n):\n",
    "    sum_ = sum(map(deg_cent, G.nodes))\n",
    "    return deg_cent(n) / sum_"
   ]
  },
  {
   "cell_type": "code",
   "execution_count": 67,
   "metadata": {},
   "outputs": [],
   "source": [
    "def bonacich_eigen_cent(n):\n",
    "    n_ = list(G.nodes).index(n)\n",
    "    A = nx.to_numpy_matrix(G)\n",
    "    evals, evects = np.linalg.eig(A)\n",
    "    max_eval_ind = np.argmax(evals, axis=0)\n",
    "    return evects.T[max_eval_ind, n_].real\n",
    "\n",
    "def norm_bonacich_eigen_cent(n):\n",
    "    sum_ = sum(map(bonacich_eigen_cent, G.nodes))\n",
    "    return bonacich_eigen_cent(n) / sum_"
   ]
  },
  {
   "cell_type": "code",
   "execution_count": 91,
   "metadata": {},
   "outputs": [],
   "source": [
    "def alpha_cent(n, alpha=0.5):\n",
    "    n_ = list(G.nodes).index(n)\n",
    "    A = nx.convert_matrix.to_numpy_array(G)\n",
    "    c_alpha = np.linalg.inv(np.eye(*A.shape) - alpha*A.T)\n",
    "    e = np.ones(len(G.nodes))\n",
    "    return float(np.matmul(c_alpha, e)[n_])\n",
    "\n",
    "def norm_alpha_cent(n, alpha=0.5):\n",
    "    cent_fn = partial(alpha_cent, alpha=alpha)\n",
    "    norm = sum(map(cent_fn, G.nodes))\n",
    "    return alpha_cent(n) / norm"
   ]
  },
  {
   "cell_type": "code",
   "execution_count": 57,
   "metadata": {},
   "outputs": [],
   "source": [
    "def closeness_cent(n):\n",
    "    di = lambda j: nx.shortest_path_length(G, n, j)\n",
    "    return 1./sum(map(di, G.nodes))\n",
    "\n",
    "def norm_closeness_cent(n):\n",
    "    N = len(G.nodes)\n",
    "    return (N-1) * closeness_cent(n)"
   ]
  },
  {
   "cell_type": "code",
   "execution_count": 58,
   "metadata": {},
   "outputs": [],
   "source": [
    "CACHE_SIZE = 1000\n",
    "\n",
    "@lru_cache(maxsize=CACHE_SIZE)\n",
    "def geodesics(G, n, m):\n",
    "    return len(list(nx.all_shortest_paths(G, n, m)))\n",
    "\n",
    "@lru_cache(maxsize=CACHE_SIZE)\n",
    "def get_paths(G, n, m):\n",
    "    return list(nx.all_simple_paths(G, n, m))\n",
    "\n",
    "@lru_cache(maxsize=CACHE_SIZE)\n",
    "def geodesics_contains(G, n, m, contain):\n",
    "    contains = lambda path: contain in path\n",
    "    paths = get_paths(G, n, m)\n",
    "    valid_paths = list(filter(contains, paths))\n",
    "    if not valid_paths: return 0\n",
    "    shortest_len = min(map(len, valid_paths))\n",
    "    return len([p for p in valid_paths\n",
    "                if len(p)==shortest_len])\n",
    "\n",
    "def between_cent(n):\n",
    "    total = 0\n",
    "    for j in G.nodes:\n",
    "        if n == j: continue\n",
    "        for k in G.nodes:\n",
    "            if k in [n, j]: continue\n",
    "            num = geodesics_contains(G, j, k, n)\n",
    "            den = geodesics(G, j, k)\n",
    "            total += float(num) / den\n",
    "    return total\n",
    "\n",
    "def norm_between_cent(n):\n",
    "    n_ = len(G.nodes)\n",
    "    return between_cent(n)/((n_-1)*(n_-2))"
   ]
  },
  {
   "cell_type": "code",
   "execution_count": 59,
   "metadata": {},
   "outputs": [],
   "source": [
    "def delta_cent(n, P):\n",
    "    G_ = G.copy()\n",
    "    G_.remove_node(n)\n",
    "    return (P(G) - P(G_))/P(G)"
   ]
  },
  {
   "cell_type": "code",
   "execution_count": 63,
   "metadata": {},
   "outputs": [
    {
     "data": {
      "text/plain": [
       "[<matplotlib.lines.Line2D at 0x1a178195c0>]"
      ]
     },
     "execution_count": 63,
     "metadata": {},
     "output_type": "execute_result"
    },
    {
     "data": {
      "image/png": "[encoded data removed]",
      "text/plain": [
       "<matplotlib.figure.Figure at 0x1a16effb38>"
      ]
     },
     "metadata": {},
     "output_type": "display_data"
    }
   ],
   "source": [
    "given_node = list(G.nodes)[0]\n",
    "xs = np.linspace(0, 1, num=100)\n",
    "\n",
    "plt.plot(xs, [alpha_cent(given_node, a) for a in xs])"
   ]
  },
  {
   "cell_type": "code",
   "execution_count": 94,
   "metadata": {
    "scrolled": false
   },
   "outputs": [
    {
     "name": "stdout",
     "output_type": "stream",
     "text": [
      "\n",
      "=== Node 0 ===\n",
      "Degree: 0.06\n",
      "Bonacich: 0.06\n",
      "Closeness: 0.43\n"
     ]
    },
    {
     "ename": "AssertionError",
     "evalue": "1.2083333333333333",
     "output_type": "error",
     "traceback": [
      "\u001b[0;31m---------------------------------------------------------------------------\u001b[0m",
      "\u001b[0;31mAssertionError\u001b[0m                            Traceback (most recent call last)",
      "\u001b[0;32m<ipython-input-94-3f446f9b1d05>\u001b[0m in \u001b[0;36m<module>\u001b[0;34m()\u001b[0m\n\u001b[1;32m     12\u001b[0m     \u001b[0;32mfor\u001b[0m \u001b[0mname\u001b[0m\u001b[0;34m,\u001b[0m \u001b[0mcent_fn\u001b[0m \u001b[0;32min\u001b[0m \u001b[0mmeasures\u001b[0m\u001b[0;34m.\u001b[0m\u001b[0mitems\u001b[0m\u001b[0;34m(\u001b[0m\u001b[0;34m)\u001b[0m\u001b[0;34m:\u001b[0m\u001b[0;34m\u001b[0m\u001b[0m\n\u001b[1;32m     13\u001b[0m         \u001b[0mcent\u001b[0m \u001b[0;34m=\u001b[0m \u001b[0mcent_fn\u001b[0m\u001b[0;34m(\u001b[0m\u001b[0mnode\u001b[0m\u001b[0;34m)\u001b[0m\u001b[0;34m\u001b[0m\u001b[0m\n\u001b[0;32m---> 14\u001b[0;31m         \u001b[0;32massert\u001b[0m \u001b[0;36m0\u001b[0m \u001b[0;34m<=\u001b[0m \u001b[0mcent\u001b[0m \u001b[0;34m<=\u001b[0m \u001b[0;36m1\u001b[0m\u001b[0;34m,\u001b[0m \u001b[0mcent\u001b[0m\u001b[0;34m\u001b[0m\u001b[0m\n\u001b[0m\u001b[1;32m     15\u001b[0m         \u001b[0mprint\u001b[0m\u001b[0;34m(\u001b[0m\u001b[0;34m\"{}: {:.2f}\"\u001b[0m\u001b[0;34m.\u001b[0m\u001b[0mformat\u001b[0m\u001b[0;34m(\u001b[0m\u001b[0mname\u001b[0m\u001b[0;34m.\u001b[0m\u001b[0mtitle\u001b[0m\u001b[0;34m(\u001b[0m\u001b[0;34m)\u001b[0m\u001b[0;34m,\u001b[0m \u001b[0mcent\u001b[0m\u001b[0;34m)\u001b[0m\u001b[0;34m)\u001b[0m\u001b[0;34m\u001b[0m\u001b[0m\n\u001b[1;32m     16\u001b[0m         \u001b[0mcloseness\u001b[0m\u001b[0;34m[\u001b[0m\u001b[0;34m'closeness'\u001b[0m\u001b[0;34m]\u001b[0m\u001b[0;34m.\u001b[0m\u001b[0mappend\u001b[0m\u001b[0;34m(\u001b[0m\u001b[0mcent\u001b[0m\u001b[0;34m)\u001b[0m\u001b[0;34m\u001b[0m\u001b[0m\n",
      "\u001b[0;31mAssertionError\u001b[0m: 1.2083333333333333"
     ]
    }
   ],
   "source": [
    "measures = {\n",
    "    'degree': norm_deg_cent,\n",
    "    'bonacich': norm_bonacich_eigen_cent,\n",
    "    'alpha': norm_alpha_cent,\n",
    "    'closeness': norm_closeness_cent,\n",
    "    'between_cent': norm_between_cent\n",
    "}\n",
    "\n",
    "closeness = defaultdict(list)\n",
    "for node in G.nodes:\n",
    "    print(\"\\n=== Node {} ===\".format(node))\n",
    "    for name, cent_fn in measures.items():\n",
    "        cent = cent_fn(node)\n",
    "        assert 0 <= cent <= 1, cent\n",
    "        print(\"{}: {:.2f}\".format(name.title(), cent))\n",
    "        closeness['closeness'].append(cent)\n",
    "        closeness['measure'].append(name)\n",
    "        closeness['node'].append(node)\n",
    "\n",
    "df = pd.DataFrame.from_dict(closeness)\n",
    "sns.heatmap(df.pivot('measure', 'node', 'closeness'),\n",
    "           vmin=0., vmax=1., cmap='viridis')\n",
    "plt.show()"
   ]
  },
  {
   "cell_type": "code",
   "execution_count": null,
   "metadata": {},
   "outputs": [],
   "source": []
  },
  {
   "cell_type": "code",
   "execution_count": null,
   "metadata": {},
   "outputs": [],
   "source": []
  }
 ],
 "metadata": {
  "kernelspec": {
   "display_name": "Python 3",
   "language": "python",
   "name": "python3"
  },
  "language_info": {
   "codemirror_mode": {
    "name": "ipython",
    "version": 3
   },
   "file_extension": ".py",
   "mimetype": "text/x-python",
   "name": "python",
   "nbconvert_exporter": "python",
   "pygments_lexer": "ipython3",
   "version": "3.6.1"
  }
 },
 "nbformat": 4,
 "nbformat_minor": 2
}
